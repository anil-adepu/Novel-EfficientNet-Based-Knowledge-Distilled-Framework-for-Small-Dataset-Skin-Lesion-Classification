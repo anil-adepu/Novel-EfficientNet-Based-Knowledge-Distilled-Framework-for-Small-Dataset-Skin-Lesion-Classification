{
 "cells": [
  {
   "cell_type": "code",
   "execution_count": 1,
   "metadata": {},
   "outputs": [],
   "source": [
    "import os\n",
    "import numpy as np\n",
    "from keras.preprocessing import image\n",
    "import cv2\n",
    "from PIL import Image\n",
    "from os import path\n",
    "import shutil, copy\n",
    "from image_cropper import *\n",
    "from copy import deepcopy\n",
    "from collections import defaultdict"
   ]
  },
  {
   "cell_type": "code",
   "execution_count": 2,
   "metadata": {},
   "outputs": [],
   "source": [
    "mappings = [\n",
    "  {\n",
    "    \"type\": \"MEL\",\n",
    "    \"mappings\": [\n",
    "      { \"DDIClassName\": \"melanoma\", \"HamClassName\": \"MEL\" },\n",
    "      { \"DDIClassName\": \"nodular-melanoma-(nm)\", \"HamClassName\": \"MEL\" },\n",
    "      { \"DDIClassName\": \"melanoma-acral-lentiginous\", \"HamClassName\": \"MEL\" },\n",
    "      { \"DDIClassName\": \"melanoma-in-situ\", \"HamClassName\": \"MEL\" }\n",
    "    ]\n",
    "  },\n",
    "  {\n",
    "    \"type\": \"NV\",\n",
    "    \"mappings\": [\n",
    "      { \"DDIClassName\": \"melanocytic-nevi\", \"HamClassName\": \"NV\" },\n",
    "      {\n",
    "        \"DDIClassName\": \"atypical-spindle-cell-nevus-of-reed\",\n",
    "        \"HamClassName\": \"NV\"\n",
    "      },\n",
    "      { \"DDIClassName\": \"blue-nevus\", \"HamClassName\": \"NV\" },\n",
    "      {\n",
    "        \"DDIClassName\": \"nevus-lipomatosus-superficialis\",\n",
    "        \"HamClassName\": \"NV\"\n",
    "      },\n",
    "      {\n",
    "        \"DDIClassName\": \"pigmented-spindle-cell-nevus-of-reed\",\n",
    "        \"HamClassName\": \"NV\"\n",
    "      },\n",
    "      { \"DDIClassName\": \"acral-melanotic-macule\", \"HamClassName\": \"NV\" }, # Pigmented macule, typically benign\n",
    "      { \"DDIClassName\": \"dysplastic-nevus\", \"HamClassName\": \"NV\" } # Higher risk for melanoma, but still classified as nevus\n",
    "    ]\n",
    "  },\n",
    "  {\n",
    "    \"type\": \"BCC\",\n",
    "    \"mappings\": [\n",
    "      { \"DDIClassName\": \"basal-cell-carcinoma\", \"HamClassName\": \"BCC\" },\n",
    "      {\n",
    "        \"DDIClassName\": \"basal-cell-carcinoma-nodular\",\n",
    "        \"HamClassName\": \"BCC\"\n",
    "      },\n",
    "      {\n",
    "        \"DDIClassName\": \"basal-cell-carcinoma-superficial\",\n",
    "        \"HamClassName\": \"BCC\"\n",
    "      }\n",
    "    ]\n",
    "  },\n",
    "  {\n",
    "    \"type\": \"AKIEC\",\n",
    "    \"mappings\": [\n",
    "      { \"DDIClassName\": \"actinic-keratosis\", \"HamClassName\": \"AKIEC\" },\n",
    "      {\n",
    "        \"DDIClassName\": \"squamous-cell-carcinoma-in-situ\",\n",
    "        \"HamClassName\": \"AKIEC\"\n",
    "      }\n",
    "    ]\n",
    "  },\n",
    "  {\n",
    "    \"type\": \"BKL\",\n",
    "    \"mappings\": [\n",
    "      { \"DDIClassName\": \"benign-keratosis\", \"HamClassName\": \"BKL\" },\n",
    "      { \"DDIClassName\": \"seborrheic-keratosis\", \"HamClassName\": \"BKL\" },\n",
    "      {\n",
    "        \"DDIClassName\": \"seborrheic-keratosis-irritated\",\n",
    "        \"HamClassName\": \"BKL\"\n",
    "      },\n",
    "      { \"DDIClassName\": \"lichenoid-keratosis\", \"HamClassName\": \"BKL\" }\n",
    "    ]\n",
    "  },\n",
    "  {\n",
    "    \"type\": \"DF\",\n",
    "    \"mappings\": [\n",
    "      { \"DDIClassName\": \"dermatofibroma\", \"HamClassName\": \"DF\" },\n",
    "      { \"DDIClassName\": \"fibrous-papule\", \"HamClassName\": \"DF\" } # Reason: Histologically similar benign fibrous lesions\n",
    "    ]\n",
    "  },\n",
    "  {\n",
    "    \"type\": \"VASC\",\n",
    "    \"mappings\": [\n",
    "      { \"DDIClassName\": \"angioma\", \"HamClassName\": \"VASC\" }, # General term for benign vascular tumors\n",
    "      { \"DDIClassName\": \"angioleiomyoma\", \"HamClassName\": \"VASC\" }, # Benign smooth muscle tumor with vascular elements\n",
    "      { \"DDIClassName\": \"pyogenic-granuloma\", \"HamClassName\": \"VASC\" }, # Benign vascular lesion, often post-injury\n",
    "      { \"DDIClassName\": \"arteriovenous-hemangioma\", \"HamClassName\": \"VASC\" }, # Congenital vascular malformation\n",
    "      { \"DDIClassName\": \"glomangioma\", \"HamClassName\": \"VASC\" } # Benign tumor from glomus cells, vascular origin\n",
    "    ]\n",
    "  }\n",
    "]\n"
   ]
  },
  {
   "cell_type": "code",
   "execution_count": 3,
   "metadata": {},
   "outputs": [],
   "source": [
    "def return_list(data_path, data_type):\n",
    "    file_list = [file for file in os.listdir(data_path) if file.lower().endswith(data_type)]\n",
    "    # print(str(len(file_list)))\n",
    "    return file_list\n",
    "\n",
    "def mk_dir(dir_path):\n",
    "    if not os.path.exists(dir_path):\n",
    "        os.makedirs(dir_path)\n",
    "    return dir_path\n",
    "\n",
    "source_data_type = '.png'\n",
    "target_data_type = '.jpg'\n",
    "TARGET_SIZE = 384\n",
    "ham_classes = [\"MEL\", \"NV\", \"BCC\", \"AKIEC\", \"BKL\", \"DF\", \"VASC\"]\n",
    "HamLabels = defaultdict(lambda: \"NONE\")"
   ]
  },
  {
   "cell_type": "code",
   "execution_count": 4,
   "metadata": {},
   "outputs": [],
   "source": [
    "metadata = pd.read_csv(\"../../datasets/DDI/metadata.csv\")\n",
    "target_metadata = deepcopy(metadata)\n",
    "target_metadata['HamMappedLabel'] = HamLabels[\"DEFAULT\"]"
   ]
  },
  {
   "cell_type": "code",
   "execution_count": 5,
   "metadata": {},
   "outputs": [],
   "source": [
    "for ham_class_mapping in mappings:\n",
    "    ham_class = ham_class_mapping[\"type\"]\n",
    "    for ddi_class_mapping in ham_class_mapping[\"mappings\"]:\n",
    "        HamLabels[ddi_class_mapping[\"DDIClassName\"]] = ham_class\n",
    "        target_metadata.loc[target_metadata.disease == ddi_class_mapping[\"DDIClassName\"], \"HamMappedLabel\"] = ham_class"
   ]
  },
  {
   "cell_type": "code",
   "execution_count": 6,
   "metadata": {},
   "outputs": [],
   "source": [
    "data_img_path = '../../datasets/DDI/images/'\n",
    "\n",
    "data_save_path = '../../datasets/processed/DDI/roi_square_cropped/'\n",
    "data_save_path_images = mk_dir(data_save_path + 'images/')"
   ]
  },
  {
   "cell_type": "code",
   "execution_count": 7,
   "metadata": {},
   "outputs": [],
   "source": [
    "target_metadata.to_csv(f\"{data_save_path}target_metadata_all.csv\", index=False)\n",
    "target_metadata = target_metadata[target_metadata.HamMappedLabel != \"NONE\"]\n",
    "target_metadata.to_csv(f\"{data_save_path}target_metadata.csv\", index=False)"
   ]
  },
  {
   "cell_type": "code",
   "execution_count": null,
   "metadata": {},
   "outputs": [],
   "source": []
  },
  {
   "cell_type": "code",
   "execution_count": 8,
   "metadata": {},
   "outputs": [
    {
     "name": "stdout",
     "output_type": "stream",
     "text": [
      "Processing Img 100: 000639.png\n",
      "Processing Img 200: 000526.png\n",
      "Image 000092.png was not found\n",
      "Image 000582.png cropped successfully.\n",
      "Processing Img 300: 000530.png\n"
     ]
    }
   ],
   "source": [
    "i=0\n",
    "for file_name in list(set(target_metadata.DDI_file)):\n",
    "    i+=1\n",
    "    if i % 100 == 0:\n",
    "        print('Processing Img {idx}: {file_name}'.format(idx=i, file_name=file_name))\n",
    "    \n",
    "    org_img = np.asarray(image.load_img(data_img_path + file_name))\n",
    "    remove=min(org_img.shape[0], org_img.shape[1])//2\n",
    "    x,y= org_img.shape[0]//2, org_img.shape[1]//2\n",
    "    # centred square crop\n",
    "    org_img = org_img[x-remove:x+remove, y-remove:y+remove]\n",
    "\n",
    "    # roi square crop\n",
    "    gray_image = cv2.cvtColor(org_img, cv2.COLOR_BGR2GRAY)\n",
    "    ret, thresh = cv2.threshold(gray_image, 60, 255, 0)\n",
    "    try:\n",
    "        rect = obtain_bb(thresh)\n",
    "\n",
    "        x,y,w,h = rect\n",
    "        int_ratio = intensity_ratio(gray_image, x, y, w, h)\n",
    "\n",
    "        if float(int_ratio) > 1.1:\n",
    "            print('Image {} cropped successfully.'.format(file_name))\n",
    "            org_img = org_img[y:y+h, x:x+w]\n",
    "    except:\n",
    "        print('Image {} was not found'.format(file_name))\n",
    "        continue\n",
    "\n",
    "    # resize\n",
    "    org_img = cv2.resize(org_img, (TARGET_SIZE, TARGET_SIZE), interpolation = cv2.INTER_AREA)\n",
    "\n",
    "    cropImg = Image.fromarray(org_img)\n",
    "    cropImg.save(path.join(data_save_path_images, file_name[:-4] + target_data_type))"
   ]
  },
  {
   "cell_type": "code",
   "execution_count": null,
   "metadata": {},
   "outputs": [],
   "source": [
    "\n"
   ]
  }
 ],
 "metadata": {
  "kernelspec": {
   "display_name": "Python 3",
   "language": "python",
   "name": "python3"
  },
  "language_info": {
   "codemirror_mode": {
    "name": "ipython",
    "version": 3
   },
   "file_extension": ".py",
   "mimetype": "text/x-python",
   "name": "python",
   "nbconvert_exporter": "python",
   "pygments_lexer": "ipython3",
   "version": "3.11.9"
  }
 },
 "nbformat": 4,
 "nbformat_minor": 2
}
