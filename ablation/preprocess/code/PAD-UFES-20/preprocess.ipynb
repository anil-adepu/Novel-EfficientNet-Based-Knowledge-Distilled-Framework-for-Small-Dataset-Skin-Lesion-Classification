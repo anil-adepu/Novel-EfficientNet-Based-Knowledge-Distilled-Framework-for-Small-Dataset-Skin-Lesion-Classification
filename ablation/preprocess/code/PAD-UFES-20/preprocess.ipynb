{
 "cells": [
  {
   "cell_type": "code",
   "execution_count": 37,
   "metadata": {},
   "outputs": [],
   "source": [
    "import os\n",
    "import numpy as np\n",
    "from keras.preprocessing import image\n",
    "import cv2\n",
    "from PIL import Image\n",
    "from os import path\n",
    "import shutil, copy\n",
    "from image_cropper import *\n",
    "from copy import deepcopy\n",
    "from collections import defaultdict"
   ]
  },
  {
   "cell_type": "code",
   "execution_count": null,
   "metadata": {},
   "outputs": [],
   "source": []
  },
  {
   "cell_type": "code",
   "execution_count": 46,
   "metadata": {},
   "outputs": [],
   "source": [
    "def return_list(data_path, data_type):\n",
    "    file_list = [file for file in os.listdir(data_path) if file.lower().endswith(data_type)]\n",
    "    # print(str(len(file_list)))\n",
    "    return file_list\n",
    "\n",
    "def mk_dir(dir_path):\n",
    "    if not os.path.exists(dir_path):\n",
    "        os.makedirs(dir_path)\n",
    "    return dir_path\n",
    "\n",
    "source_data_type = '.png'\n",
    "target_data_type = '.jpg'\n",
    "TARGET_SIZE = 384"
   ]
  },
  {
   "cell_type": "code",
   "execution_count": 47,
   "metadata": {},
   "outputs": [],
   "source": [
    "pad_classes = ['MEL', 'NEV', 'BCC', 'ACK']\n",
    "# Malignant Melanoma (MEL)\n",
    "# Melanocytic Nevus of Skin (NEV)\n",
    "# Basal Cell Carcinoma of skin (BCC)\n",
    "# Actinic Keratosis (ACK)\n",
    "# Squamous Cell Carcinoma (SCC)\n",
    "# Seborrheic Keratosis (SEK)\n",
    "\n",
    "HamLabels = defaultdict(lambda: \"NONE\")\n",
    "HamLabels[\"MEL\"] = \"MEL\"\n",
    "HamLabels[\"NEV\"] = \"NV\"\n",
    "HamLabels[\"BCC\"] = \"BCC\"\n",
    "HamLabels[\"ACK\"] = \"AKIEC\""
   ]
  },
  {
   "cell_type": "code",
   "execution_count": 48,
   "metadata": {},
   "outputs": [],
   "source": [
    "metadata = pd.read_csv(\"../../datasets/PAD-UFES-20/metadata.csv\")\n",
    "target_metadata = deepcopy(metadata)\n",
    "target_metadata['HamMappedLabel'] = HamLabels[\"DEFAULT\"]"
   ]
  },
  {
   "cell_type": "code",
   "execution_count": 49,
   "metadata": {},
   "outputs": [],
   "source": [
    "data_img_path_images = '../../datasets/PAD-UFES-20/images/'\n",
    "\n",
    "data_save_path = '../../datasets/processed/PAD-UFES-20/roi_square_cropped/'\n",
    "data_save_path_images = mk_dir(data_save_path + 'images/')"
   ]
  },
  {
   "cell_type": "code",
   "execution_count": 50,
   "metadata": {},
   "outputs": [
    {
     "data": {
      "text/plain": [
       "Index(['patient_id', 'lesion_id', 'smoke', 'drink', 'background_father',\n",
       "       'background_mother', 'age', 'pesticide', 'gender',\n",
       "       'skin_cancer_history', 'cancer_history', 'has_piped_water',\n",
       "       'has_sewage_system', 'fitspatrick', 'region', 'diameter_1',\n",
       "       'diameter_2', 'diagnostic', 'itch', 'grew', 'hurt', 'changed', 'bleed',\n",
       "       'elevation', 'img_id', 'biopsed', 'HamMappedLabel'],\n",
       "      dtype='object')"
      ]
     },
     "execution_count": 50,
     "metadata": {},
     "output_type": "execute_result"
    }
   ],
   "source": [
    "target_metadata.columns"
   ]
  },
  {
   "cell_type": "code",
   "execution_count": 51,
   "metadata": {},
   "outputs": [
    {
     "name": "stdout",
     "output_type": "stream",
     "text": [
      "Processing Img 100: PAT_1710_3160_488.png\n",
      "Processing Img 200: PAT_1638_2878_536.png\n",
      "Processing Img 300: PAT_380_773_542.png\n",
      "Processing Img 400: PAT_106_158_249.png\n",
      "Processing Img 500: PAT_378_770_302.png\n",
      "Processing Img 600: PAT_1704_3142_702.png\n",
      "Processing Img 700: PAT_514_969_187.png\n",
      "Processing Img 900: PAT_2103_4581_72.png\n",
      "Processing Img 1000: PAT_2122_4642_204.png\n",
      "Processing Img 1100: PAT_890_1694_29.png\n",
      "Processing Img 1300: PAT_86_1082_220.png\n",
      "Processing Img 1400: PAT_2026_4230_141.png\n",
      "Processing Img 1500: PAT_138_206_507.png\n",
      "Processing Img 1600: PAT_459_892_804.png\n",
      "Processing Img 1700: PAT_154_236_800.png\n",
      "Processing Img 1800: PAT_1443_1536_166.png\n",
      "Processing Img 1900: PAT_1428_1489_454.png\n",
      "Processing Img 2000: PAT_986_1855_702.png\n",
      "Processing Img 2100: PAT_935_1781_920.png\n",
      "Processing Img 2200: PAT_337_1697_721.png\n"
     ]
    }
   ],
   "source": [
    "i=0\n",
    "for image_name in list(target_metadata.img_id):\n",
    "    i+=1\n",
    "    row = target_metadata.loc[target_metadata.img_id == image_name]\n",
    "\n",
    "    if HamLabels[row.diagnostic.values[0]] == \"NONE\":\n",
    "        continue\n",
    "\n",
    "    target_metadata.loc[target_metadata.img_id == image_name, \"HamMappedLabel\"] = HamLabels[row.diagnostic.values[0]]\n",
    "    if i % 100 == 0:\n",
    "        print('Processing Img {idx}: {image_name}'.format(idx=i, image_name=image_name))\n",
    "    \n",
    "    org_img = np.asarray(image.load_img(data_img_path_images + image_name))\n",
    "    remove=min(org_img.shape[0], org_img.shape[1])//2\n",
    "    x,y= org_img.shape[0]//2, org_img.shape[1]//2\n",
    "    # centred square crop\n",
    "    org_img = org_img[x-remove:x+remove, y-remove:y+remove]\n",
    "    # resize\n",
    "    org_img = cv2.resize(org_img, (TARGET_SIZE, TARGET_SIZE), interpolation = cv2.INTER_AREA)\n",
    "   \n",
    "    cropImg = Image.fromarray(org_img)\n",
    "    cropImg.save(path.join(data_save_path_images, image_name[:-4] + target_data_type))"
   ]
  },
  {
   "cell_type": "code",
   "execution_count": 53,
   "metadata": {},
   "outputs": [],
   "source": [
    "target_metadata = target_metadata[target_metadata.HamMappedLabel != \"NONE\"]\n",
    "target_metadata.to_csv(f\"{data_save_path}target_metadata.csv\", index=False)"
   ]
  },
  {
   "cell_type": "code",
   "execution_count": null,
   "metadata": {},
   "outputs": [],
   "source": []
  }
 ],
 "metadata": {
  "kernelspec": {
   "display_name": "venv",
   "language": "python",
   "name": "python3"
  },
  "language_info": {
   "codemirror_mode": {
    "name": "ipython",
    "version": 3
   },
   "file_extension": ".py",
   "mimetype": "text/x-python",
   "name": "python",
   "nbconvert_exporter": "python",
   "pygments_lexer": "ipython3",
   "version": "3.11.9"
  }
 },
 "nbformat": 4,
 "nbformat_minor": 2
}
