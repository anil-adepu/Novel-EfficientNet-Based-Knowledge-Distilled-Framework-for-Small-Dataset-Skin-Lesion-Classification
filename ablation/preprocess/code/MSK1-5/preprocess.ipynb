{
 "cells": [
  {
   "cell_type": "code",
   "execution_count": 72,
   "metadata": {},
   "outputs": [],
   "source": [
    "import os\n",
    "import numpy as np\n",
    "from keras.preprocessing import image\n",
    "import cv2\n",
    "from PIL import Image\n",
    "from os import path\n",
    "import shutil, copy\n",
    "from copy import deepcopy\n",
    "from image_cropper import *\n",
    "from collections import defaultdict"
   ]
  },
  {
   "cell_type": "code",
   "execution_count": null,
   "metadata": {},
   "outputs": [],
   "source": []
  },
  {
   "cell_type": "code",
   "execution_count": 73,
   "metadata": {},
   "outputs": [],
   "source": [
    "def return_list(data_path, data_type):\n",
    "    file_list = [file for file in os.listdir(data_path) if file.lower().endswith(data_type)]\n",
    "    # print(str(len(file_list)))\n",
    "    return file_list\n",
    "\n",
    "def mk_dir(dir_path):\n",
    "    if not os.path.exists(dir_path):\n",
    "        os.makedirs(dir_path)\n",
    "    return dir_path\n",
    "\n",
    "data_type = '.jpg'\n",
    "TARGET_SIZE = 384"
   ]
  },
  {
   "cell_type": "code",
   "execution_count": 74,
   "metadata": {},
   "outputs": [],
   "source": [
    "data_img_path_source = \"../../datasets/MSK/{msk_dataset_id}/images/\"\n",
    "data_save_path = mk_dir('../../datasets/processed/MSK1-5/')\n",
    "data_save_path_img = mk_dir(f'{data_save_path}roi_square_cropped/')"
   ]
  },
  {
   "cell_type": "code",
   "execution_count": 75,
   "metadata": {},
   "outputs": [],
   "source": [
    "msk_datasets = [\"msk1\", \"msk2\", \"msk3\", \"msk4\", \"msk5\"]\n",
    "msk1_5_classes = [\n",
    "    {'melanoma': 'MEL'},\n",
    "    {'melanoma metastasis': 'MEL'},\n",
    "    {'AIMP': 'MEL'},  # Atypical melanocytic proliferation likely mapped to melanoma\n",
    "    {'atypical spitz tumor': 'MEL'},  # Often mapped to melanoma or considered precursors\n",
    "    {'atypical melanocytic proliferation': 'MEL'},\n",
    "    {'nevus spilus': 'NV'},  # Nevus category\n",
    "    {'nevus': 'NV'},\n",
    "    {'basal cell carcinoma': 'BCC'},\n",
    "    {'actinic keratosis': 'AKIEC'},\n",
    "    {'lichenoid keratosis': 'BKL'},\n",
    "    {'solar lentigo': 'BKL'},\n",
    "    {'seborrheic keratosis': 'BKL'},\n",
    "    {'lentigo simplex': 'BKL'},\n",
    "    {'lentigo NOS': 'BKL'},\n",
    "    {'acrochordon': 'BKL'},  # Skin tags generally classified under benign keratosis\n",
    "    {'dermatofibroma': 'DF'},\n",
    "    {'angiokeratoma': 'VASC'},\n",
    "    {'pyogenic granuloma': 'VASC'},\n",
    "    {'angioma': 'VASC'},\n",
    "    {'clear cell acanthoma': 'NONE'},\n",
    "    {'neurofibroma': 'NONE'},\n",
    "    {'mucosal melanosis': 'NONE'},\n",
    "    {'sebaceous adenoma': 'NONE'},\n",
    "    {'angiofibroma or fibrous papule': 'NONE'},\n",
    "    {'sebaceous hyperplasia': 'NONE'},\n",
    "    {'scar': 'NONE'},\n",
    "    {'verruca': 'NONE'},\n",
    "    {'other': 'NONE'},\n",
    "    {'nan': 'NONE'},\n",
    "    {'squamous cell carcinoma': 'NONE'}  # Intraepithelial carcinoma\n",
    "]\n",
    "\n",
    "HamLabels = defaultdict(lambda: \"NONE\")\n",
    "\n",
    "for msk_class in msk1_5_classes:\n",
    "    for key, value in msk_class.items():\n",
    "        HamLabels[key] = value"
   ]
  },
  {
   "cell_type": "code",
   "execution_count": 76,
   "metadata": {},
   "outputs": [],
   "source": [
    "target_metadata_dict = defaultdict(lambda: None)\n",
    "\n",
    "for msk_dataset_name in msk_datasets:\n",
    "    metadata = pd.read_csv(f\"../../datasets/MSK/{msk_dataset_name}/metadata_{msk_dataset_name}.csv\")\n",
    "    target_metadata_dict[msk_dataset_name] = deepcopy(metadata)\n",
    "    target_metadata_dict[msk_dataset_name]['HamMappedLabel'] = HamLabels[\"DEFAULT\"]\n",
    "    target_metadata_dict[msk_dataset_name]['MskDatasetId'] = msk_dataset_name\n",
    "\n",
    "    for msk_class in msk1_5_classes:\n",
    "        for key, value in msk_class.items():\n",
    "            target_metadata_dict[msk_dataset_name].loc[target_metadata_dict[msk_dataset_name].diagnosis == key, 'HamMappedLabel'] = value\n",
    "    \n",
    "    pd.concat((target_metadata_dict.values())).to_csv(f\"{data_save_path}target_metadata_all.csv\", index=False)\n",
    "    target_metadata_all = pd.read_csv(f\"{data_save_path}target_metadata_all.csv\")"
   ]
  },
  {
   "cell_type": "code",
   "execution_count": 77,
   "metadata": {},
   "outputs": [
    {
     "name": "stdout",
     "output_type": "stream",
     "text": [
      "Processing Img 0: ISIC_0011403.jpg\n",
      "Processing Img 1000: ISIC_0014972.jpg\n",
      "Processing Img 2000: ISIC_0010190.jpg\n",
      "Processing Img 3000: ISIC_0011190.jpg\n",
      "Processing Img 4000: ISIC_0021637.jpg\n",
      "Processing Img 5000: ISIC_0022639.jpg\n",
      "Processing Img 6000: ISIC_0023639.jpg\n",
      "Processing Img 7000: ISIC_0012528.jpg\n",
      "Processing Img 8000: ISIC_0013629.jpg\n",
      "Processing Img 9000: ISIC_0015999.jpg\n"
     ]
    }
   ],
   "source": [
    "for i, (msk_id, image_name) in enumerate(zip(target_metadata_all.MskDatasetId.values, target_metadata_all.isic_id.values)):\n",
    "    image_name += data_type\n",
    "    if i % 1000 == 0:\n",
    "        print('Processing Img {idx}: {image_name}'.format(idx=i, image_name=image_name))\n",
    "    \n",
    "    org_img = np.asarray(image.load_img(data_img_path_source.format(msk_dataset_id=msk_id) + image_name))\n",
    "    remove=min(org_img.shape[0], org_img.shape[1])//2\n",
    "    x,y= org_img.shape[0]//2, org_img.shape[1]//2\n",
    "    \n",
    "    # centred square crop\n",
    "    org_img = org_img[x-remove:x+remove, y-remove:y+remove]\n",
    "    \n",
    "    # resize\n",
    "    org_img = cv2.resize(org_img, (TARGET_SIZE, TARGET_SIZE), interpolation = cv2.INTER_AREA)\n",
    "   \n",
    "    cropImg = Image.fromarray(org_img)\n",
    "    cropImg.save(path.join(data_save_path_img, image_name[:-4] + data_type))\n"
   ]
  },
  {
   "cell_type": "code",
   "execution_count": null,
   "metadata": {},
   "outputs": [],
   "source": []
  }
 ],
 "metadata": {
  "kernelspec": {
   "display_name": "venv",
   "language": "python",
   "name": "python3"
  },
  "language_info": {
   "codemirror_mode": {
    "name": "ipython",
    "version": 3
   },
   "file_extension": ".py",
   "mimetype": "text/x-python",
   "name": "python",
   "nbconvert_exporter": "python",
   "pygments_lexer": "ipython3",
   "version": "3.11.9"
  }
 },
 "nbformat": 4,
 "nbformat_minor": 2
}
