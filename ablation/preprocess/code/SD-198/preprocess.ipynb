{
 "cells": [
  {
   "cell_type": "code",
   "execution_count": 1,
   "metadata": {},
   "outputs": [],
   "source": [
    "import os\n",
    "import numpy as np\n",
    "from keras.preprocessing import image\n",
    "import cv2\n",
    "from PIL import Image\n",
    "from os import path\n",
    "import shutil, copy\n",
    "from image_cropper import *\n",
    "from copy import deepcopy\n",
    "from collections import defaultdict"
   ]
  },
  {
   "cell_type": "code",
   "execution_count": 2,
   "metadata": {},
   "outputs": [],
   "source": [
    "mappings = [\n",
    "  {\n",
    "    \"type\": \"MEL\",\n",
    "    \"mappings\": [\n",
    "      { \"SdClassName\": \"Malignant_Melanoma\", \"SdClassLabel\": 115 },\n",
    "      { \"SdClassName\": \"Lentigo_Maligna_Melanoma\", \"SdClassLabel\": 101 }\n",
    "    ]\n",
    "  },\n",
    "  {\n",
    "    \"type\": \"NV\",\n",
    "    \"mappings\": [\n",
    "      { \"SdClassName\": \"Compound_Nevus\", \"SdClassLabel\": 35 },\n",
    "      { \"SdClassName\": \"Congenital_Nevus\", \"SdClassLabel\": 36 },\n",
    "      { \"SdClassName\": \"Junction_Nevus\", \"SdClassLabel\": 92 },\n",
    "      { \"SdClassName\": \"Halo_Nevus\", \"SdClassLabel\": 81 },\n",
    "      { \"SdClassName\": \"Becker's_Nevus\", \"SdClassLabel\": 23 },\n",
    "      { \"SdClassName\": \"Blue_Nevus\", \"SdClassLabel\": 26 },\n",
    "      { \"SdClassName\": \"Dysplastic_Nevus\", \"SdClassLabel\": 53 },\n",
    "      { \"SdClassName\": \"Nevus_Sebaceous_of_Jadassohn\", \"SdClassLabel\": 134 },\n",
    "      { \"SdClassName\": \"Nevus_Spilus\", \"SdClassLabel\": 135 }\n",
    "    ]\n",
    "  },\n",
    "  {\n",
    "    \"type\": \"BCC\",\n",
    "    \"mappings\": [\n",
    "      { \"SdClassName\": \"Basal_Cell_Carcinoma\", \"SdClassLabel\": 21 }\n",
    "    ]\n",
    "  },\n",
    "  {\n",
    "    \"type\": \"AKIEC\",\n",
    "    \"mappings\": [\n",
    "      { \"SdClassName\": \"Actinic_solar_Damage(Actinic_Keratosis)\", \"SdClassLabel\": 5 },\n",
    "      { \"SdClassName\": \"Bowen's_Disease\", \"SdClassLabel\": 27 }\n",
    "    ]\n",
    "  },\n",
    "  {\n",
    "    \"type\": \"BKL\",\n",
    "    \"mappings\": [\n",
    "      { \"SdClassName\": \"Benign_Keratosis\", \"SdClassLabel\": 25 },\n",
    "      { \"SdClassName\": \"Seborrheic_Keratosis\", \"SdClassLabel\": 167 }\n",
    "    ]\n",
    "  },\n",
    "  {\n",
    "    \"type\": \"DF\",\n",
    "    \"mappings\": [\n",
    "      { \"SdClassName\": \"Dermatofibroma\", \"SdClassLabel\": 43 }\n",
    "    ]\n",
    "  },\n",
    "  {\n",
    "    \"type\": \"VASC\",\n",
    "    \"mappings\": [\n",
    "      { \"SdClassName\": \"Angioma\", \"SdClassLabel\": 15 },\n",
    "      { \"SdClassName\": \"Strawberry_Hemangioma\", \"SdClassLabel\": 177 },\n",
    "      { \"SdClassName\": \"Pyogenic_Granuloma\", \"SdClassLabel\": 156 }\n",
    "    ]\n",
    "  }\n",
    "]\n"
   ]
  },
  {
   "cell_type": "code",
   "execution_count": 3,
   "metadata": {},
   "outputs": [],
   "source": [
    "def return_list(data_path, data_type):\n",
    "    file_list = [file for file in os.listdir(data_path) if file.lower().endswith(data_type)]\n",
    "    # print(str(len(file_list)))\n",
    "    return file_list\n",
    "\n",
    "def mk_dir(dir_path):\n",
    "    if not os.path.exists(dir_path):\n",
    "        os.makedirs(dir_path)\n",
    "    return dir_path\n",
    "\n",
    "data_type = '.jpg'\n",
    "TARGET_SIZE = 384\n",
    "ham_classes = [\"MEL\", \"NV\", \"BCC\", \"AKIEC\", \"BKL\", \"DF\", \"VASC\"]\n",
    "HamLabels = defaultdict(lambda: \"NONE\")"
   ]
  },
  {
   "cell_type": "code",
   "execution_count": 4,
   "metadata": {},
   "outputs": [],
   "source": [
    "metadata = pd.read_csv(\"../../datasets/SD-198/sd-198/metadata.csv\")\n",
    "target_metadata = deepcopy(metadata)\n",
    "target_metadata['HamMappedLabel'] = HamLabels[\"DEFAULT\"]"
   ]
  },
  {
   "cell_type": "code",
   "execution_count": 5,
   "metadata": {},
   "outputs": [],
   "source": [
    "for ham_class_mapping in mappings:\n",
    "    ham_class = ham_class_mapping[\"type\"]\n",
    "    for sd_class_mapping in ham_class_mapping[\"mappings\"]:\n",
    "        HamLabels[sd_class_mapping[\"SdClassName\"]] = ham_class\n",
    "        target_metadata.loc[target_metadata.class_name == sd_class_mapping[\"SdClassName\"], \"HamMappedLabel\"] = ham_class"
   ]
  },
  {
   "cell_type": "code",
   "execution_count": 6,
   "metadata": {},
   "outputs": [],
   "source": [
    "data_img_path = '../../datasets/SD-198/sd-198/images/'\n",
    "\n",
    "data_save_path = '../../datasets/processed/SD-198/roi_square_cropped/'\n",
    "data_save_path_images = mk_dir(data_save_path + 'images/')"
   ]
  },
  {
   "cell_type": "code",
   "execution_count": 7,
   "metadata": {},
   "outputs": [],
   "source": [
    "target_metadata.to_csv(f\"{data_save_path}target_metadata_all.csv\", index=False)\n",
    "target_metadata = target_metadata[target_metadata.HamMappedLabel != \"NONE\"]\n",
    "target_metadata.to_csv(f\"{data_save_path}target_metadata.csv\", index=False)"
   ]
  },
  {
   "cell_type": "code",
   "execution_count": null,
   "metadata": {},
   "outputs": [],
   "source": []
  },
  {
   "cell_type": "code",
   "execution_count": 8,
   "metadata": {},
   "outputs": [
    {
     "name": "stdout",
     "output_type": "stream",
     "text": [
      "Processing Img 100: 020740HB.jpg\n",
      "Image 009086HB.jpg cropped successfully.\n",
      "Image 045138HB.jpg cropped successfully.\n",
      "Processing Img 200: 010332HB.jpg\n",
      "Processing Img 300: 020078VB.jpg\n",
      "Processing Img 400: 045678HB.jpg\n",
      "Processing Img 500: 020203HB.jpg\n",
      "Processing Img 600: 000607HB.jpg\n",
      "Processing Img 700: 000375HB.jpg\n",
      "Processing Img 800: 014247HB.jpg\n",
      "Processing Img 900: 021724HB.jpg\n",
      "Image 015028VB.jpg cropped successfully.\n",
      "Processing Img 1000: 015174HB.jpg\n"
     ]
    }
   ],
   "source": [
    "i=0\n",
    "for sd_class in list(set(target_metadata.class_name)):\n",
    "    file_load_path = f\"{data_img_path}{sd_class}/\"\n",
    "    file_images_list = return_list(file_load_path, data_type)\n",
    "\n",
    "    for file_name in file_images_list:\n",
    "        i+=1\n",
    "        if i % 100 == 0:\n",
    "            print('Processing Img {idx}: {file_name}'.format(idx=i, file_name=file_name))\n",
    "        \n",
    "        org_img = np.asarray(image.load_img(file_load_path + file_name))\n",
    "        remove=min(org_img.shape[0], org_img.shape[1])//2\n",
    "        x,y= org_img.shape[0]//2, org_img.shape[1]//2\n",
    "        # centred square crop\n",
    "        org_img = org_img[x-remove:x+remove, y-remove:y+remove]\n",
    "\n",
    "        # roi square crop\n",
    "        gray_image = cv2.cvtColor(org_img, cv2.COLOR_BGR2GRAY)\n",
    "        ret, thresh = cv2.threshold(gray_image, 60, 255, 0)\n",
    "        try:\n",
    "            rect = obtain_bb(thresh)\n",
    "\n",
    "            x,y,w,h = rect\n",
    "            int_ratio = intensity_ratio(gray_image, x, y, w, h)\n",
    "\n",
    "            if float(int_ratio) > 1.1:\n",
    "                print('Image {} cropped successfully.'.format(file_name))\n",
    "                org_img = org_img[y:y+h, x:x+w]\n",
    "        except:\n",
    "            print('Image {} was not found'.format(file_name))\n",
    "            continue\n",
    "    \n",
    "        # resize\n",
    "        org_img = cv2.resize(org_img, (TARGET_SIZE, TARGET_SIZE), interpolation = cv2.INTER_AREA)\n",
    "    \n",
    "        cropImg = Image.fromarray(org_img)\n",
    "        cropImg.save(path.join(data_save_path_images, file_name[:-4] + '.jpg'))"
   ]
  },
  {
   "cell_type": "code",
   "execution_count": null,
   "metadata": {},
   "outputs": [],
   "source": []
  },
  {
   "cell_type": "code",
   "execution_count": null,
   "metadata": {},
   "outputs": [],
   "source": []
  },
  {
   "cell_type": "code",
   "execution_count": null,
   "metadata": {},
   "outputs": [],
   "source": []
  }
 ],
 "metadata": {
  "kernelspec": {
   "display_name": "Python 3",
   "language": "python",
   "name": "python3"
  },
  "language_info": {
   "codemirror_mode": {
    "name": "ipython",
    "version": 3
   },
   "file_extension": ".py",
   "mimetype": "text/x-python",
   "name": "python",
   "nbconvert_exporter": "python",
   "pygments_lexer": "ipython3",
   "version": "3.11.9"
  }
 },
 "nbformat": 4,
 "nbformat_minor": 2
}
